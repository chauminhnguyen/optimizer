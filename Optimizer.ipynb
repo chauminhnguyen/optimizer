{
  "nbformat": 4,
  "nbformat_minor": 0,
  "metadata": {
    "colab": {
      "name": "Optimizer.ipynb",
      "provenance": [],
      "collapsed_sections": [
        "X-Dbc-QXP20r",
        "2gIzhvkzP8_A",
        "ItcL5r0uQHpe",
        "BVjl-G4rQAF-",
        "2OdxT1tQmk_T"
      ],
      "toc_visible": true,
      "include_colab_link": true
    },
    "kernelspec": {
      "name": "python3",
      "display_name": "Python 3"
    }
  },
  "cells": [
    {
      "cell_type": "markdown",
      "metadata": {
        "id": "view-in-github",
        "colab_type": "text"
      },
      "source": [
        "<a href=\"https://colab.research.google.com/github/chauminhnguyen/optimizer/blob/master/Optimizer.ipynb\" target=\"_parent\"><img src=\"https://colab.research.google.com/assets/colab-badge.svg\" alt=\"Open In Colab\"/></a>"
      ]
    },
    {
      "cell_type": "markdown",
      "metadata": {
        "id": "X-Dbc-QXP20r"
      },
      "source": [
        "#**Dataset**"
      ]
    },
    {
      "cell_type": "code",
      "metadata": {
        "id": "2tsDASZLPKWp",
        "colab": {
          "base_uri": "https://localhost:8080/",
          "height": 252
        },
        "outputId": "3e3f1439-775d-40bb-cc29-7d9c088fa494"
      },
      "source": [
        "from __future__ import division, print_function, unicode_literals\n",
        "import math\n",
        "import numpy as np\n",
        "import matplotlib.pyplot as plt\n",
        "\n",
        "N = 100 # number of points per class\n",
        "d0 = 2 # dimensionality\n",
        "C = 3 # number of classes\n",
        "X = np.zeros((d0, N*C)) # data matrix (each row = single example)\n",
        "y = np.zeros(N*C, dtype='uint8') # class labels\n",
        "\n",
        "for j in range(C):\n",
        "  ix = range(N*j,N*(j+1))\n",
        "  r = np.linspace(0.0,1,N) # radius\n",
        "  t = np.linspace(j*4,(j+1)*4,N) + np.random.randn(N)*0.2 # theta\n",
        "  X[:,ix] = np.c_[r*np.sin(t), r*np.cos(t)].T\n",
        "  y[ix] = j\n",
        "# lets visualize the data:\n",
        "# plt.scatter(X[:N, 0], X[:N, 1], c=y[:N], s=40, cmap=plt.cm.Spectral)\n",
        "\n",
        "plt.plot(X[0, :N], X[1, :N], 'bs', markersize = 7);\n",
        "plt.plot(X[0, N:2*N], X[1, N:2*N], 'ro', markersize = 7);\n",
        "plt.plot(X[0, 2*N:], X[1, 2*N:], 'g^', markersize = 7);\n",
        "# plt.axis('off')\n",
        "plt.xlim([-1.5, 1.5])\n",
        "plt.ylim([-1.5, 1.5])\n",
        "cur_axes = plt.gca()\n",
        "cur_axes.axes.get_xaxis().set_ticks([])\n",
        "cur_axes.axes.get_yaxis().set_ticks([])\n",
        "\n",
        "plt.savefig('EX.png', bbox_inches='tight', dpi = 600)\n",
        "plt.show()"
      ],
      "execution_count": null,
      "outputs": [
        {
          "output_type": "display_data",
          "data": {
            "image/png": "[encoded data removed]",
            "text/plain": [
              "<Figure size 432x288 with 1 Axes>"
            ]
          },
          "metadata": {
            "tags": []
          }
        }
      ]
    },
    {
      "cell_type": "markdown",
      "metadata": {
        "id": "2gIzhvkzP8_A"
      },
      "source": [
        "#**Loss function**"
      ]
    },
    {
      "cell_type": "code",
      "metadata": {
        "id": "2yhbA5Y0POHX"
      },
      "source": [
        "def softmax(V):\n",
        "    e_V = np.exp(V - np.max(V, axis = 0, keepdims = True))\n",
        "    Z = e_V / e_V.sum(axis = 0)\n",
        "    return Z\n",
        "\n",
        "## One-hot coding\n",
        "from scipy import sparse\n",
        "def convert_labels(y, C = 3):\n",
        "    Y = sparse.coo_matrix((np.ones_like(y),\n",
        "        (y, np.arange(len(y)))), shape = (C, len(y))).toarray()\n",
        "    return Y\n",
        "\n",
        "# cost or loss function\n",
        "def cost(Y, Yhat):\n",
        "    return -np.sum(Y*np.log(Yhat))/Y.shape[1]"
      ],
      "execution_count": null,
      "outputs": []
    },
    {
      "cell_type": "markdown",
      "metadata": {
        "id": "ItcL5r0uQHpe"
      },
      "source": [
        "#**Optimizer**"
      ]
    },
    {
      "cell_type": "markdown",
      "metadata": {
        "id": "_bY1nEDLYmMd"
      },
      "source": [
        "> **SGD**"
      ]
    },
    {
      "cell_type": "code",
      "metadata": {
        "id": "qcCklK9yYudy"
      },
      "source": [
        "def SGD(delta, old, lr):\n",
        "    new = old - lr * delta\n",
        "    return new"
      ],
      "execution_count": null,
      "outputs": []
    },
    {
      "cell_type": "markdown",
      "metadata": {
        "id": "eCaMiVxOQKBZ"
      },
      "source": [
        "\n",
        "> **Momemtum**\n",
        "\n"
      ]
    },
    {
      "cell_type": "code",
      "metadata": {
        "id": "GSHXlgTIYe41"
      },
      "source": [
        "def Momentum(delta, old, m, lr, beta1 = 0.9):\n",
        "    g = delta\n",
        "    m.append(beta1 * m[-1] + (1 - beta1) * g)\n",
        "    new = old - lr * m[-1]\n",
        "    return new"
      ],
      "execution_count": null,
      "outputs": []
    },
    {
      "cell_type": "markdown",
      "metadata": {
        "id": "5CFA0VZsYmUG"
      },
      "source": [
        "> **Adam**"
      ]
    },
    {
      "cell_type": "code",
      "metadata": {
        "id": "xrnajnGPYt_U"
      },
      "source": [
        "def Adam(delta, old, it, lr, s, m, beta1=0.9, beta2=0.999, epsilon=1e-8):\n",
        "    g = delta\n",
        "    m.append(beta1 * m[-1] + (1 - beta1) * g)\n",
        "    s.append(beta2 * s[-1] + (1 - beta2) * np.square(g))\n",
        "    m_corrected = m[-1] / (1-(beta1**it))\n",
        "    s_corrected = s[-1] / (1-(beta2**it))\n",
        "    new = old - lr * (m_corrected) / (np.sqrt(s_corrected) + epsilon)\n",
        "    return new"
      ],
      "execution_count": null,
      "outputs": []
    },
    {
      "cell_type": "markdown",
      "metadata": {
        "id": "BVjl-G4rQAF-"
      },
      "source": [
        "#**Main Def**"
      ]
    },
    {
      "cell_type": "code",
      "metadata": {
        "id": "KATYj-SmPXuF"
      },
      "source": [
        "def main(opt, max_iter):\n",
        "    d0 = 2\n",
        "    d1 = h = 100 # size of hidden layer\n",
        "    d2 = C = 3\n",
        "    s_1 = [0]\n",
        "    m_1 = [0]\n",
        "    s_2 = [0]\n",
        "    m_2 = [0]\n",
        "    s_b1 = [0]\n",
        "    m_b1 = [0]\n",
        "    s_b2 = [0]\n",
        "    m_b2 = [0]\n",
        "    cost_arr = []\n",
        "\n",
        "    # initialize parameters randomly\n",
        "    W1 = 0.01*np.random.randn(d0, d1)\n",
        "    b1 = np.zeros((d1, 1))\n",
        "    W2 = 0.01*np.random.randn(d1, d2)\n",
        "    b2 = np.zeros((d2, 1))\n",
        "\n",
        "    Y = convert_labels(y, C)\n",
        "    N = X.shape[1]\n",
        "    for i in range(1, max_iter):\n",
        "        ## Feedforward\n",
        "        Z1 = np.dot(W1.T, X) + b1\n",
        "        A1 = np.maximum(Z1, 0)\n",
        "        Z2 = np.dot(W2.T, A1) + b2\n",
        "        Yhat = softmax(Z2)\n",
        "\n",
        "        # print loss after each 1000 iterations\n",
        "        if i %1000 == 0:\n",
        "            # compute the loss: average cross-entropy loss\n",
        "            loss = cost(Y, Yhat)\n",
        "            cost_arr.append(loss)\n",
        "            print(\"iter %d, loss: %f\" %(i, loss))\n",
        "\n",
        "        # backpropagation\n",
        "        \n",
        "        E2 = (Yhat - Y )/N\n",
        "        dW2 = np.dot(A1, E2.T)\n",
        "        db2 = np.sum(E2, axis = 1, keepdims = True)\n",
        "        if opt == \"adam\":\n",
        "            W2 = Adam(dW2, W2, i, 0.5, s_2, m_2)\n",
        "            b2 = Adam(db2, b2, i, 0.5, s_b2, m_b2)\n",
        "        elif opt == \"momentum\":\n",
        "            W2 = Momentum(dW2, W2, m_2, 0.5)\n",
        "            b2 = Momentum(db2, b2, m_b2, 0.5)\n",
        "\n",
        "        E1 = np.dot(W2, E2)\n",
        "        E1[Z1 <= 0] = 0 # gradient of ReLU\n",
        "        dW1 = np.dot(X, E1.T)\n",
        "        db1 = np.sum(E1, axis = 1, keepdims = True)\n",
        "        if opt == \"adam\":\n",
        "            W1 = Adam(dW1, W1, i, 0.5, s_1, m_1)\n",
        "            b1 = Adam(db1, b1, i, 0.5, s_b1, m_b1)\n",
        "        \n",
        "        elif opt == \"momentum\":\n",
        "            W1 = Momentum(dW1, W1, m_1, 0.5)\n",
        "            b1 = Momentum(db1, b1, m_b1, 0.5)\n",
        "        elif opt == \"sgd\":\n",
        "            W2 = SGD(dW2, W2, 0.5)\n",
        "            b2 = SGD(db2, b2, 0.5)\n",
        "            W1 = SGD(dW1, W1, 0.5)\n",
        "            b1 = SGD(db1, b1, 0.5)\n",
        "    \n",
        "    return cost_arr"
      ],
      "execution_count": null,
      "outputs": []
    },
    {
      "cell_type": "markdown",
      "metadata": {
        "id": "2OdxT1tQmk_T"
      },
      "source": [
        "#**Graph**"
      ]
    },
    {
      "cell_type": "code",
      "metadata": {
        "id": "_tN8OHDAmnrV"
      },
      "source": [
        "import matplotlib.pyplot as plt\n",
        "\n",
        "def DrawGraph(sgd, momentum, adam, epoch):\n",
        "    plt.figure(figsize=(10,8))\n",
        "\n",
        "    plt.plot(epoch, sgd, label=\"SGD\")\n",
        "    plt.plot(epoch, momentum, label=\"Momentum\")\n",
        "    plt.plot(epoch, adam, label=\"Adam\")\n",
        "\n",
        "    plt.xlabel('Epochs')\n",
        "    plt.ylabel('Loss')\n",
        "    plt.legend()\n",
        "    plt.show()\n"
      ],
      "execution_count": null,
      "outputs": []
    },
    {
      "cell_type": "markdown",
      "metadata": {
        "id": "hYmqsY4CoVXI"
      },
      "source": [
        "#**Main**"
      ]
    },
    {
      "cell_type": "code",
      "metadata": {
        "id": "irS76i5_nj6V",
        "colab": {
          "base_uri": "https://localhost:8080/",
          "height": 272
        },
        "outputId": "bc0b5fe0-80b8-4696-b0c0-2c03cfbee2de"
      },
      "source": [
        "max_iter = 5000\n",
        "print(\"SGD:\")\n",
        "sgd = main('sgd', max_iter)\n",
        "print(\"Momentum:\")\n",
        "momentum = main('momentum', max_iter)\n",
        "print(\"Adam:\")\n",
        "adam = main('adam', max_iter)"
      ],
      "execution_count": null,
      "outputs": [
        {
          "output_type": "stream",
          "text": [
            "SGD:\n",
            "iter 1000, loss: 0.210532\n",
            "iter 2000, loss: 0.084570\n",
            "iter 3000, loss: 0.055772\n",
            "iter 4000, loss: 0.044050\n",
            "Momentum:\n",
            "iter 1000, loss: 0.244751\n",
            "iter 2000, loss: 0.113183\n",
            "iter 3000, loss: 0.068293\n",
            "iter 4000, loss: 0.050008\n",
            "Adam:\n",
            "iter 1000, loss: 0.012954\n",
            "iter 2000, loss: 0.011434\n",
            "iter 3000, loss: 0.011530\n",
            "iter 4000, loss: 0.011661\n"
          ],
          "name": "stdout"
        }
      ]
    },
    {
      "cell_type": "code",
      "metadata": {
        "id": "QYS1nNn6zKy3",
        "colab": {
          "base_uri": "https://localhost:8080/",
          "height": 497
        },
        "outputId": "7ada138a-dece-4c3e-83e3-1465c88a7043"
      },
      "source": [
        "epoch = [1000, 2000, 3000, 4000]\n",
        "DrawGraph(sgd, momentum, adam, epoch)"
      ],
      "execution_count": null,
      "outputs": [
        {
          "output_type": "display_data",
          "data": {
            "image/png": "[encoded data removed]",
            "text/plain": [
              "<Figure size 720x576 with 1 Axes>"
            ]
          },
          "metadata": {
            "tags": [],
            "needs_background": "light"
          }
        }
      ]
    }
  ]
}